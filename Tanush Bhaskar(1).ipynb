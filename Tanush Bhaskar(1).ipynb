{
 "cells": [
  {
   "cell_type": "code",
   "execution_count": 80,
   "id": "b9260de3",
   "metadata": {},
   "outputs": [],
   "source": [
    "import numpy as np\n",
    "import pandas as pd\n",
    "import matplotlib.pyplot as plt"
   ]
  },
  {
   "cell_type": "code",
   "execution_count": 81,
   "id": "523b3078",
   "metadata": {},
   "outputs": [
    {
     "name": "stdout",
     "output_type": "stream",
     "text": [
      "3\n",
      "[[ 1.          1.12802065 -0.88669546]\n",
      " [ 1.          0.5809947  -0.93553706]\n",
      " [ 1.          1.22081969 -0.88669546]\n",
      " ...\n",
      " [ 1.          1.89727589 -0.87448506]\n",
      " [ 1.          0.35632333 -0.93553706]\n",
      " [ 1.          0.57366846 -0.93553706]]\n"
     ]
    }
   ],
   "source": [
    "data=pd.read_csv('train.csv')\n",
    "x=np.c_[data['GrLivArea'],data['MSSubClass']]\n",
    "y=data['SalePrice']\n",
    "x = (x - x.mean()) / x.std()\n",
    "x = np.c_[np.ones(x.shape[0]), x] \n",
    "print(x.shape[1])\n",
    "print(x)"
   ]
  },
  {
   "cell_type": "code",
   "execution_count": 90,
   "id": "e3759661",
   "metadata": {},
   "outputs": [
    {
     "name": "stdout",
     "output_type": "stream",
     "text": [
      "Gradient Descent:  62620.58,  77494.54, -56506.46\n"
     ]
    }
   ],
   "source": [
    "alpha = 0.01\n",
    "iterations = 200 \n",
    "m = y.size \n",
    "np.random.seed(123)\n",
    "theta = np.random.rand(3) \n",
    "past_costs = []\n",
    "def gradient_descent(x, y, theta, iterations, alpha,float): \n",
    "    past_thetas = [theta]\n",
    "    for i in range(iterations):\n",
    "        prediction = np.dot(x, theta)\n",
    "        error = prediction - y\n",
    "        cost = 1/(2*m) * np.dot(error.T, error)\n",
    "        past_costs.append(cost)\n",
    "        theta = theta - (alpha * (1/m) * np.dot(x.T, error))\n",
    "        past_thetas.append(theta)\n",
    "        theta = past_thetas[-1]\n",
    "    return theta, past_costs\n",
    "theta, past_costs = gradient_descent(x, y, theta, iterations, alpha,float);\n",
    "print(\"Gradient Descent: {: .2f}, {: .2f}, {: .2f}\".format(theta[0], theta[1], theta[2]))"
   ]
  },
  {
   "cell_type": "code",
   "execution_count": 91,
   "id": "bcbcf1e2",
   "metadata": {},
   "outputs": [
    {
     "data": {
      "image/png": "[encoded data removed]",
      "text/plain": [
       "<Figure size 432x288 with 1 Axes>"
      ]
     },
     "metadata": {
      "needs_background": "light"
     },
     "output_type": "display_data"
    }
   ],
   "source": [
    "plt.title('Cost Function J')\n",
    "plt.xlabel('iterations')\n",
    "plt.ylabel('past_costs')\n",
    "plt.plot(past_costs)\n",
    "plt.show()"
   ]
  },
  {
   "cell_type": "code",
   "execution_count": null,
   "id": "ec60f2c9",
   "metadata": {},
   "outputs": [],
   "source": []
  },
  {
   "cell_type": "code",
   "execution_count": null,
   "id": "5edc6516",
   "metadata": {},
   "outputs": [],
   "source": []
  },
  {
   "cell_type": "code",
   "execution_count": null,
   "id": "151828fa",
   "metadata": {},
   "outputs": [],
   "source": []
  }
 ],
 "metadata": {
  "kernelspec": {
   "display_name": "Python 3",
   "language": "python",
   "name": "python3"
  },
  "language_info": {
   "codemirror_mode": {
    "name": "ipython",
    "version": 3
   },
   "file_extension": ".py",
   "mimetype": "text/x-python",
   "name": "python",
   "nbconvert_exporter": "python",
   "pygments_lexer": "ipython3",
   "version": "3.8.8"
  }
 },
 "nbformat": 4,
 "nbformat_minor": 5
}
